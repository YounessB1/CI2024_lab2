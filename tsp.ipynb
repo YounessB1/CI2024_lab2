{
 "cells": [
  {
   "cell_type": "code",
   "execution_count": 194,
   "metadata": {},
   "outputs": [],
   "source": [
    "import tqdm\n",
    "from itertools import combinations\n",
    "import pandas as pd\n",
    "import numpy as np\n",
    "from geopy.distance import geodesic\n",
    "import random\n",
    "from icecream import ic\n"
   ]
  },
  {
   "cell_type": "code",
   "execution_count": 207,
   "metadata": {},
   "outputs": [
    {
     "data": {
      "text/html": [
       "<div>\n",
       "<style scoped>\n",
       "    .dataframe tbody tr th:only-of-type {\n",
       "        vertical-align: middle;\n",
       "    }\n",
       "\n",
       "    .dataframe tbody tr th {\n",
       "        vertical-align: top;\n",
       "    }\n",
       "\n",
       "    .dataframe thead th {\n",
       "        text-align: right;\n",
       "    }\n",
       "</style>\n",
       "<table border=\"1\" class=\"dataframe\">\n",
       "  <thead>\n",
       "    <tr style=\"text-align: right;\">\n",
       "      <th></th>\n",
       "      <th>name</th>\n",
       "      <th>lat</th>\n",
       "      <th>lon</th>\n",
       "    </tr>\n",
       "  </thead>\n",
       "  <tbody>\n",
       "    <tr>\n",
       "      <th>0</th>\n",
       "      <td>Acheng</td>\n",
       "      <td>45.540000</td>\n",
       "      <td>126.960000</td>\n",
       "    </tr>\n",
       "    <tr>\n",
       "      <th>1</th>\n",
       "      <td>Aksu</td>\n",
       "      <td>41.150000</td>\n",
       "      <td>80.250000</td>\n",
       "    </tr>\n",
       "    <tr>\n",
       "      <th>2</th>\n",
       "      <td>Alaer</td>\n",
       "      <td>40.515556</td>\n",
       "      <td>81.263611</td>\n",
       "    </tr>\n",
       "    <tr>\n",
       "      <th>3</th>\n",
       "      <td>Altay</td>\n",
       "      <td>47.840000</td>\n",
       "      <td>88.130000</td>\n",
       "    </tr>\n",
       "    <tr>\n",
       "      <th>4</th>\n",
       "      <td>Anbu</td>\n",
       "      <td>23.460000</td>\n",
       "      <td>116.680000</td>\n",
       "    </tr>\n",
       "  </tbody>\n",
       "</table>\n",
       "</div>"
      ],
      "text/plain": [
       "     name        lat         lon\n",
       "0  Acheng  45.540000  126.960000\n",
       "1    Aksu  41.150000   80.250000\n",
       "2   Alaer  40.515556   81.263611\n",
       "3   Altay  47.840000   88.130000\n",
       "4    Anbu  23.460000  116.680000"
      ]
     },
     "execution_count": 207,
     "metadata": {},
     "output_type": "execute_result"
    }
   ],
   "source": [
    "CITIES = pd.read_csv('cities/china.csv', header=None, names=['name', 'lat', 'lon'])\n",
    "DIST_MATRIX = np.zeros((len(CITIES), len(CITIES)))\n",
    "for c1, c2 in combinations(CITIES.itertuples(), 2):\n",
    "    DIST_MATRIX[c1.Index, c2.Index] = DIST_MATRIX[c2.Index, c1.Index] = geodesic(\n",
    "        (c1.lat, c1.lon), (c2.lat, c2.lon)\n",
    "    ).km\n",
    "CITIES.head()"
   ]
  },
  {
   "cell_type": "markdown",
   "metadata": {},
   "source": [
    "## Lab2 - TSP\n",
    "\n",
    "https://www.wolframcloud.com/obj/giovanni.squillero/Published/Lab2-tsp.nb"
   ]
  },
  {
   "cell_type": "code",
   "execution_count": 196,
   "metadata": {},
   "outputs": [],
   "source": [
    "def tsp_cost(tsp):\n",
    "    assert tsp[0] == tsp[-1]\n",
    "    assert set(tsp) == set(range(len(CITIES)))\n",
    "\n",
    "    tot_cost = 0\n",
    "    for c1, c2 in zip(tsp, tsp[1:]):\n",
    "        tot_cost += DIST_MATRIX[c1, c2]\n",
    "    return tot_cost"
   ]
  },
  {
   "cell_type": "markdown",
   "metadata": {},
   "source": [
    "## Greedy Algorithm"
   ]
  },
  {
   "cell_type": "code",
   "execution_count": 197,
   "metadata": {},
   "outputs": [],
   "source": [
    "def forms_loop(tsp, start, end):\n",
    "    visited = set()\n",
    "    current = start\n",
    "    while current != -1:\n",
    "        if current == end:\n",
    "            return True\n",
    "        visited.add(current)\n",
    "        next_city = -1\n",
    "        for s, e in tsp:\n",
    "            if s == current and e not in visited:\n",
    "                next_city = e\n",
    "                break\n",
    "            elif e == current and s not in visited:\n",
    "                next_city = s\n",
    "                break\n",
    "        current = next_city\n",
    "    return False"
   ]
  },
  {
   "cell_type": "code",
   "execution_count": 204,
   "metadata": {},
   "outputs": [
    {
     "name": "stdout",
     "output_type": "stream",
     "text": [
      "[(176, 180), (76, 201), (266, 287), (8, 104), (83, 190), (3, 12), (96, 239), (8, 209), (67, 262), (36, 109), (180, 220), (12, 313), (28, 233), (65, 265), (69, 220), (106, 265), (212, 259), (13, 317), (239, 258), (136, 190), (4, 225), (131, 159), (65, 127), (28, 37), (225, 240), (96, 236), (316, 319), (284, 312), (87, 282), (186, 294), (87, 216), (138, 243), (40, 154), (107, 240), (109, 217), (208, 236), (140, 238), (43, 121), (108, 172), (4, 168), (120, 176), (17, 188), (56, 102), (76, 78), (297, 317), (44, 108), (24, 241), (206, 211), (85, 315), (95, 291), (98, 227), (39, 203), (119, 216), (174, 193), (136, 195), (71, 75), (228, 307), (256, 319), (237, 277), (200, 288), (104, 106), (30, 244), (13, 145), (98, 124), (95, 140), (24, 202), (158, 201), (92, 305), (146, 215), (179, 252), (170, 186), (69, 124), (62, 227), (131, 301), (79, 167), (27, 171), (138, 208), (44, 295), (226, 315), (78, 85), (75, 312), (23, 238), (278, 279), (171, 187), (120, 175), (274, 298), (101, 287), (150, 282), (116, 196), (23, 272), (45, 198), (132, 209), (33, 303), (263, 266), (103, 168), (199, 213), (7, 35), (40, 133), (81, 260), (41, 234), (66, 173), (107, 173), (115, 228), (150, 200), (37, 163), (184, 243), (158, 301), (30, 293), (73, 297), (84, 250), (129, 152), (202, 262), (43, 73), (103, 154), (241, 306), (114, 122), (15, 261), (118, 264), (39, 88), (110, 133), (32, 233), (51, 81), (116, 194), (36, 159), (2, 242), (67, 264), (101, 118), (151, 219), (80, 83), (199, 325), (41, 77), (20, 59), (223, 295), (218, 325), (196, 309), (18, 249), (218, 235), (126, 219), (92, 306), (137, 188), (170, 184), (139, 211), (248, 250), (31, 192), (223, 271), (54, 253), (46, 61), (267, 274), (48, 309), (177, 204), (122, 323), (63, 132), (253, 293), (63, 226), (97, 112), (192, 314), (123, 307), (197, 205), (212, 298), (17, 82), (126, 286), (31, 283), (100, 110), (129, 139), (161, 163), (203, 294), (59, 313), (213, 283), (88, 260), (38, 153), (117, 314), (29, 145), (161, 166), (215, 267), (11, 285), (144, 244), (10, 71), (258, 308), (32, 230), (191, 230), (91, 272), (11, 305), (182, 285), (1, 55), (185, 189), (231, 316), (72, 100), (62, 318), (49, 137), (195, 235), (271, 289), (146, 217), (29, 112), (54, 281), (141, 249), (86, 149), (56, 310), (286, 296), (82, 247), (123, 254), (53, 189), (58, 232), (10, 299), (255, 263), (229, 318), (5, 222), (156, 207), (141, 311), (52, 70), (58, 121), (144, 210), (206, 300), (34, 79), (214, 229), (77, 114), (166, 324), (61, 323), (80, 222), (94, 234), (57, 296), (84, 182), (21, 143), (117, 324), (14, 261), (210, 214), (111, 147), (165, 247), (89, 254), (105, 135), (42, 68), (21, 174), (155, 160), (221, 280), (127, 308), (22, 151), (99, 276), (19, 310), (246, 252), (50, 248), (18, 257), (19, 259), (49, 276), (128, 185), (165, 178), (60, 164), (68, 221), (47, 128), (52, 155), (147, 284), (15, 164), (60, 183), (105, 281), (251, 280), (14, 16), (57, 311), (94, 322), (26, 183), (273, 304), (198, 270), (99, 299), (66, 304), (1, 224), (72, 321), (47, 142), (53, 90), (172, 302), (113, 178), (205, 303), (50, 269), (102, 255), (70, 130), (90, 160), (42, 74), (153, 175), (162, 177), (5, 20), (16, 270), (6, 162), (197, 321), (64, 167), (115, 291), (3, 194), (181, 193), (22, 143), (74, 207), (64, 148), (300, 320), (7, 290), (157, 169), (33, 320), (148, 257), (46, 245), (45, 322), (135, 292), (0, 204), (134, 181), (237, 269), (35, 55), (157, 273), (152, 156), (2, 149), (134, 169), (179, 275), (48, 245), (119, 289), (111, 130), (91, 278), (113, 246), (93, 275), (26, 142), (232, 242), (51, 268), (86, 302), (191, 290), (187, 279), (27, 256), (268, 288), (97, 231), (0, 34), (224, 251), (25, 93), (25, 277), (6, 292), (9, 89), (9, 125), (38, 125)]\n",
      "TSP Path [176, 180, 220, 69, 124, 98, 227, 62, 318, 229, 214, 210, 144, 244, 30, 293, 253, 54, 281, 105, 135, 292, 6, 162, 177, 204, 0, 34, 79, 167, 64, 148, 257, 18, 249, 141, 311, 57, 296, 286, 126, 219, 151, 22, 143, 21, 174, 193, 181, 134, 169, 157, 273, 304, 66, 173, 107, 240, 225, 4, 168, 103, 154, 40, 133, 110, 100, 72, 321, 197, 205, 303, 33, 320, 300, 206, 211, 139, 129, 152, 156, 207, 74, 42, 68, 221, 280, 251, 224, 1, 55, 35, 7, 290, 191, 230, 32, 233, 28, 37, 163, 161, 166, 324, 117, 314, 192, 31, 283, 213, 199, 325, 218, 235, 195, 136, 190, 83, 80, 222, 5, 20, 59, 313, 12, 3, 194, 116, 196, 309, 48, 245, 46, 61, 323, 122, 114, 77, 41, 234, 94, 322, 45, 198, 270, 16, 14, 261, 15, 164, 60, 183, 26, 142, 47, 128, 185, 189, 53, 90, 160, 155, 52, 70, 130, 111, 147, 284, 312, 75, 71, 10, 299, 99, 276, 49, 137, 188, 17, 82, 247, 165, 178, 113, 246, 252, 179, 275, 93, 25, 277, 237, 269, 50, 248, 250, 84, 182, 285, 11, 305, 92, 306, 241, 24, 202, 262, 67, 264, 118, 101, 287, 266, 263, 255, 102, 56, 310, 19, 259, 212, 298, 274, 267, 215, 146, 217, 109, 36, 159, 131, 301, 158, 201, 76, 78, 85, 315, 226, 63, 132, 209, 8, 104, 106, 265, 65, 127, 308, 258, 239, 96, 236, 208, 138, 243, 184, 170, 186, 294, 203, 39, 88, 260, 81, 51, 268, 288, 200, 150, 282, 87, 216, 119, 289, 271, 223, 295, 44, 108, 172, 302, 86, 149, 2, 242, 232, 58, 121, 43, 73, 297, 317, 13, 145, 29, 112, 97, 231, 316, 319, 256, 27, 171, 187, 279, 278, 91, 272, 23, 238, 140, 95, 291, 115, 228, 307, 123, 254, 89, 9, 125, 38, 153, 175, 120, 176]\n",
      "45845.91871167545 326\n"
     ]
    }
   ],
   "source": [
    "tsp = []\n",
    "city_count = {i: 0 for i in range(len(CITIES))}\n",
    "\n",
    "while len(tsp) < len(CITIES) - 1:\n",
    "    min_dist = float('inf')\n",
    "    best_pair = None\n",
    "    \n",
    "    # Find the shortest edge that doesn't violate the TSP rules\n",
    "    for i in range(len(CITIES)):\n",
    "        for j in range(i + 1, len(CITIES)):\n",
    "            if city_count[i] < 2 and city_count[j] < 2 and not forms_loop(tsp, i, j):\n",
    "                dist = DIST_MATRIX[i, j]\n",
    "                if dist < min_dist:\n",
    "                    min_dist = dist\n",
    "                    best_pair = (i, j)\n",
    "    \n",
    "    # Add the selected edge to the path\n",
    "    if best_pair:\n",
    "        i, j = best_pair\n",
    "        tsp.append((i, j))\n",
    "        city_count[i] += 1\n",
    "        city_count[j] += 1\n",
    "\n",
    "# Add the last edge to complete the loop\n",
    "for i in range(len(CITIES)):\n",
    "    for j in range(i + 1, len(CITIES)):\n",
    "        if city_count[i] < 2 and city_count[j] < 2:\n",
    "            tsp.append((i, j))\n",
    "            break\n",
    "\n",
    "# Convert tsp edges to ordered path\n",
    "path = [tsp[0][0], tsp[0][1]]\n",
    "while len(path) < len(CITIES):\n",
    "    current_city = path[-1]\n",
    "    # Find the next city in tsp edges that connects to the current city\n",
    "    for s, e in tsp:\n",
    "        if s == current_city and e not in path:\n",
    "            path.append(e)\n",
    "            break\n",
    "        elif e == current_city and s not in path:\n",
    "            path.append(s)\n",
    "            break\n",
    "\n",
    "# Complete the loop by returning to the starting city\n",
    "path.append(path[0])\n",
    "\n",
    "print(tsp)\n",
    "print(\"TSP Path\", path)\n",
    "print(tsp_cost(path), len(path)-1)"
   ]
  },
  {
   "cell_type": "markdown",
   "metadata": {},
   "source": [
    "## Genetic Algorithm"
   ]
  },
  {
   "cell_type": "code",
   "execution_count": 199,
   "metadata": {},
   "outputs": [],
   "source": [
    "def fitness(route):\n",
    "    distance = sum(DIST_MATRIX[route[i], route[i+1]] for i in range(len(route) - 1))\n",
    "    distance += DIST_MATRIX[route[-1], route[0]]\n",
    "    return distance\n",
    "\n",
    "# Initialize population\n",
    "def initial_population(pop_size):\n",
    "    population = []\n",
    "    for _ in range(pop_size):\n",
    "        route = list(range(len(CITIES)))\n",
    "        random.shuffle(route)\n",
    "        population.append(route)\n",
    "    return population\n",
    "\n",
    "# Selection - tournament selection\n",
    "def selection(population, fitnesses):\n",
    "    selected = random.choices(population, weights=fitnesses, k=2)\n",
    "    return selected[0], selected[1]\n",
    "\n",
    "# Crossover - ordered crossover\n",
    "def crossover(parent1, parent2):\n",
    "    start, end = sorted(random.sample(range(len(parent1)), 2))\n",
    "    child = [-1] * len(parent1)\n",
    "    child[start:end] = parent1[start:end]\n",
    "    pointer = end\n",
    "    for city in parent2:\n",
    "        if city not in child:\n",
    "            if pointer >= len(parent1):\n",
    "                pointer = 0\n",
    "            child[pointer] = city\n",
    "            pointer += 1\n",
    "    return child\n",
    "\n",
    "# Mutation - swap mutation\n",
    "def mutate(mutation_rate,route):\n",
    "    if random.random() < mutation_rate:\n",
    "        i, j = random.sample(range(len(route)), 2)\n",
    "        route[i], route[j] = route[j], route[i]"
   ]
  },
  {
   "cell_type": "code",
   "execution_count": 208,
   "metadata": {},
   "outputs": [
    {
     "name": "stderr",
     "output_type": "stream",
     "text": [
      "100%|██████████| 500/500 [14:07<00:00,  1.69s/it]"
     ]
    },
    {
     "name": "stdout",
     "output_type": "stream",
     "text": [
      "Best TSP Route (by indices): [98, 681, 127, 304, 558, 698, 678, 222, 420, 135, 209, 535, 342, 41, 6, 403, 243, 234, 61, 718, 469, 275, 156, 691, 501, 643, 344, 509, 489, 241, 533, 600, 218, 470, 84, 422, 561, 543, 290, 530, 504, 707, 473, 205, 134, 31, 159, 245, 22, 452, 173, 300, 210, 552, 3, 192, 505, 356, 481, 570, 126, 151, 62, 80, 323, 404, 119, 619, 392, 293, 97, 355, 712, 366, 232, 667, 522, 394, 429, 683, 340, 115, 627, 53, 189, 574, 221, 272, 314, 215, 654, 496, 466, 602, 426, 280, 525, 428, 568, 656, 109, 369, 348, 541, 266, 233, 696, 19, 597, 461, 130, 296, 284, 1, 116, 669, 615, 21, 279, 352, 255, 569, 487, 108, 198, 5, 640, 117, 29, 405, 406, 665, 129, 303, 414, 554, 120, 11, 184, 153, 39, 551, 143, 52, 40, 450, 329, 76, 261, 42, 666, 79, 649, 325, 388, 213, 716, 225, 82, 548, 624, 364, 399, 92, 528, 9, 367, 17, 562, 464, 190, 49, 653, 621, 295, 370, 372, 659, 462, 625, 310, 411, 717, 140, 440, 454, 206, 471, 395, 81, 168, 705, 536, 424, 690, 546, 529, 43, 85, 141, 472, 592, 70, 380, 104, 327, 384, 93, 532, 133, 335, 638, 47, 550, 567, 491, 610, 435, 385, 637, 242, 483, 363, 433, 46, 699, 662, 652, 670, 560, 521, 539, 30, 704, 587, 386, 374, 248, 23, 186, 467, 54, 401, 301, 373, 421, 157, 524, 585, 398, 94, 351, 227, 417, 415, 48, 91, 611, 495, 36, 124, 172, 34, 354, 238, 512, 642, 721, 65, 609, 346, 178, 158, 90, 161, 542, 294, 676, 118, 520, 531, 291, 437, 253, 345, 475, 321, 687, 78, 89, 578, 38, 393, 402, 250, 589, 685, 18, 442, 322, 336, 584, 453, 169, 628, 390, 260, 449, 236, 604, 430, 305, 485, 645, 316, 331, 144, 37, 636, 154, 617, 513, 148, 565, 441, 286, 500, 202, 333, 514, 95, 506, 605, 418, 142, 174, 147, 720, 538, 492, 702, 413, 445, 376, 122, 283, 138, 114, 412, 196, 566, 371, 577, 439, 60, 515, 68, 708, 309, 494, 623, 723, 701, 337, 722, 709, 588, 155, 672, 20, 675, 606, 456, 318, 350, 216, 618, 262, 375, 537, 249, 341, 573, 540, 55, 100, 281, 102, 217, 319, 684, 400, 581, 407, 257, 397, 170, 136, 10, 634, 67, 658, 8, 593, 271, 276, 360, 128, 44, 502, 518, 580, 703, 256, 423, 507, 75, 410, 664, 311, 379, 152, 498, 307, 484, 463, 123, 647, 191, 207, 166, 480, 211, 308, 553, 534, 382, 264, 28, 353, 697, 306, 591, 56, 231, 223, 381, 389, 162, 586, 488, 465, 263, 622, 436, 278, 613, 7, 131, 477, 66, 74, 583, 121, 614, 112, 35, 455, 632, 511, 163, 107, 700, 237, 582, 195, 77, 277, 88, 180, 468, 58, 188, 458, 86, 633, 132, 396, 359, 451, 59, 246, 655, 710, 682, 383, 101, 508, 497, 671, 204, 714, 626, 160, 313, 259, 679, 212, 183, 220, 125, 185, 175, 663, 177, 635, 459, 478, 324, 616, 139, 224, 229, 387, 201, 317, 547, 715, 292, 368, 247, 408, 516, 239, 235, 339, 240, 599, 490, 200, 73, 187, 181, 315, 499, 219, 179, 171, 680, 438, 274, 362, 620, 99, 644, 254, 176, 267, 273, 476, 486, 361, 572, 377, 725, 526, 64, 446, 244, 297, 208, 651, 149, 365, 631, 608, 549, 45, 63, 563, 330, 555, 2, 447, 71, 288, 571, 706, 598, 693, 482, 299, 692, 523, 674, 493, 270, 268, 111, 668, 503, 559, 226, 110, 96, 474, 326, 83, 150, 713, 673, 448, 688, 358, 711, 724, 719, 137, 4, 26, 328, 105, 251, 431, 594, 145, 590, 282, 33, 258, 167, 661, 689, 57, 596, 197, 639, 252, 612, 15, 298, 595, 13, 51, 579, 527, 214, 419, 677, 265, 203, 694, 557, 544, 12, 343, 444, 193, 434, 510, 230, 657, 646, 432, 349, 443, 695, 194, 460, 564, 603, 545, 338, 182, 289, 416, 409, 72, 269, 630, 312, 576, 302, 50, 607, 165, 332, 648, 457, 24, 519, 14, 686, 228, 629, 146, 660, 27, 113, 391, 347, 641, 103, 425, 479, 320, 0, 16, 378, 287, 650, 87, 285, 601, 334, 427, 25, 357, 575, 556, 164, 106, 32, 199, 69, 517, 98]\n",
      "Total Distance: 732650.4962551306\n"
     ]
    },
    {
     "name": "stderr",
     "output_type": "stream",
     "text": [
      "\n"
     ]
    }
   ],
   "source": [
    "POP_SIZE =500    # Population size\n",
    "GENS = 500           # Number of generations\n",
    "MUTATION_RATE = 0.05 # Probability of mutation\n",
    "ELITISM = 0.05\n",
    "\n",
    "\n",
    "population = initial_population(POP_SIZE)\n",
    "\n",
    "for gen in tqdm.tqdm(range(GENS)):\n",
    "    # Evaluate fitness\n",
    "    fitnesses = [1 / fitness(route) for route in population] # Higher fitness is better\n",
    "\n",
    "    # Elitism - carry over the best routes\n",
    "    elite_count = int(ELITISM * POP_SIZE)\n",
    "    sorted_population = [route for _, route in sorted(zip(fitnesses, population), reverse=True)]\n",
    "    new_population = sorted_population[:elite_count]\n",
    "\n",
    "    # Create new population\n",
    "    while len(new_population) < POP_SIZE:\n",
    "        parent1, parent2 = selection(population, fitnesses)\n",
    "        child = crossover(parent1, parent2)\n",
    "        mutate(MUTATION_RATE,child)\n",
    "        new_population.append(child)\n",
    "\n",
    "    population = new_population\n",
    "\n",
    "    # Report the best route of the generation\n",
    "    best_route = min(population, key=fitness)\n",
    "\n",
    "# Output the best route after evolution\n",
    "best_route = min(population, key=fitness)\n",
    "best_route= best_route + [best_route[0]]\n",
    "print(\"Best TSP Route (by indices):\", best_route)\n",
    "print(\"Total Distance:\", tsp_cost(best_route))"
   ]
  }
 ],
 "metadata": {
  "kernelspec": {
   "display_name": "ci-7PvHQAZr-py3.12",
   "language": "python",
   "name": "python3"
  },
  "language_info": {
   "codemirror_mode": {
    "name": "ipython",
    "version": 3
   },
   "file_extension": ".py",
   "mimetype": "text/x-python",
   "name": "python",
   "nbconvert_exporter": "python",
   "pygments_lexer": "ipython3",
   "version": "3.12.2"
  }
 },
 "nbformat": 4,
 "nbformat_minor": 2
}
